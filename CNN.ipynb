{
 "cells": [
  {
   "cell_type": "markdown",
   "metadata": {},
   "source": [
    "# 库"
   ]
  },
  {
   "cell_type": "code",
   "execution_count": 5,
   "metadata": {},
   "outputs": [],
   "source": [
    "import numpy as np\n",
    "import mnist \n",
    "np.random.seed(114514)  #随机数种子"
   ]
  },
  {
   "cell_type": "markdown",
   "metadata": {},
   "source": [
    "# 卷积核(滤波器)类"
   ]
  },
  {
   "cell_type": "code",
   "execution_count": 6,
   "metadata": {},
   "outputs": [],
   "source": [
    "class Conv3x3:\n",
    "    #3*3的卷积层\n",
    "    \n",
    "    def __init__(self, num_filters):\n",
    "        \n",
    "        self.num_filters = num_filters\n",
    "        #num_filters即为滤波器的数量\n",
    "        \n",
    "        self.filters = np.random.uniform(-1, 1, (num_filters, 3, 3))\n",
    "        #将滤波器权重初始化为均匀分布的值（矩阵中的每个元素大小都在-1到1之间）\n",
    "        \n",
    "    def iterate_regions(self, image):\n",
    "        #设定迭代区域\n",
    "        \n",
    "        h, w = image.shape\n",
    "        #h表示图像高度，w表示宽度\n",
    "        \n",
    "        for i in range(h - 2):\n",
    "            for j in range(w - 2):\n",
    "                im_region = image[i:(i + 3), j:(j + 3)]\n",
    "                # 生成图像的所有可能的 3x3 子区域\n",
    "                \n",
    "                yield im_region, i, j\n",
    "                #将子区域的信息存入迭代器\n",
    " \n",
    "    def forward(self, input):\n",
    "        #向前传播函数\n",
    "        \n",
    "        h, w = input.shape\n",
    "        #mnist数据集的图片大小为28*28,因此input也是28*28\n",
    "        \n",
    "        output = np.zeros((h - 2, w - 2, self.num_filters))\n",
    "        #output为26*26*num_filters\n",
    " \n",
    "        for im_region, i, j in self.iterate_regions(input):\n",
    "        \n",
    "            # 卷积运算，点乘再相加，ouput[i, j] 为向量，8 层\n",
    "            output[i, j] = np.sum(im_region * self.filters, axis=(1, 2))\n",
    "            \n",
    "        # 最后将输出数据返回，便于下一层的输入使用\n",
    "        return output"
   ]
  },
  {
   "cell_type": "markdown",
   "metadata": {},
   "source": [
    "# 池化层类"
   ]
  },
  {
   "cell_type": "code",
   "execution_count": 10,
   "metadata": {},
   "outputs": [],
   "source": [
    "class MaxPool2:\n",
    "    # 2*2的池化层\n",
    "    \n",
    "    def iterate_regions(self,image):\n",
    "        #此时的image为26*26*num_filters的三维数组\n",
    "        \n",
    "        h,w,_=image.shape\n",
    "        # _表示不获取它的深度，即有几层\n",
    "        \n",
    "        new_h = h//2 #类似C语言的 h/2\n",
    "        new_w = w//2\n",
    "        \n",
    "        for i in range(new_h):\n",
    "            for j in range(new_w):\n",
    "                im_region = image[(i*2):(i*2+2),(j*2):(j*2+2)]\n",
    "                yield im_region,i,j\n",
    "        #上面是和卷积核类同样的切片操作\n",
    "        \n",
    "    def forward(self,input):\n",
    "        \n",
    "        h,w,num_filters = input.shape\n",
    "        #获取image的三围\n",
    "        \n",
    "        output = np.zeros((h//2,w//2,num_filters))\n",
    "        \n",
    "        for im_region,i,j in self.iterate_regions(input):\n",
    "            output[i,j] = np.amax(im_region,axis=(0,1))\n",
    "            #计算之前切片操作的那个2*2矩阵里的元素的最大值\n",
    "            \n",
    "        return output "
   ]
  },
  {
   "cell_type": "markdown",
   "metadata": {},
   "source": [
    "# 全连接层类"
   ]
  },
  {
   "cell_type": "code",
   "execution_count": 11,
   "metadata": {},
   "outputs": [],
   "source": [
    "class Softmax:\n",
    "    # 用Softmax函数激活的全连接层\n",
    " \n",
    "    def __init__(self, input_len, nodes):\n",
    "        # input_len为输入层的节点个数(池化层处理之后的)\n",
    "        # nodes为输出层的节点个数，因为需要识别数字0到9，因此结点个数为10\n",
    "        \n",
    "        self.weights = np.random.randn(input_len, nodes) / input_len\n",
    "        # 构建权重矩阵，初始化随机数，不能太大\n",
    "        #除以input_len以减少初始值的方差\n",
    "        \n",
    "        self.biases = np.zeros(nodes)\n",
    "        #偏置向量用于在计算每个类别的得分时添加一个偏移量\n",
    " \n",
    "    def forward(self , input):\n",
    "\n",
    "        input = input.flatten()\n",
    "        #三维数组降成一维数组，用于构建全连接层\n",
    "        #例：[[1, 2, 3]       拉平后：[1, 2, 3, 4, 5, 6]    \n",
    "        #     [4, 5, 6]]\n",
    " \n",
    "        input_len, nodes = self.weights.shape\n",
    " \n",
    "        totals = np.dot(input, self.weights) + self.biases\n",
    "        #将输入数据 input 与权重矩阵 self.weights 进行点积操作，然后将得到的每个类别的得分加上相应的偏置，得到最终的 totals 数组。这个 totals 数组代表了每个类别的得分\n",
    "        \n",
    "        exp = np.exp(totals)\n",
    "        \n",
    "        return exp / np.sum(exp, axis=0)\n",
    "        #softmax函数计算"
   ]
  },
  {
   "cell_type": "code",
   "execution_count": 17,
   "metadata": {},
   "outputs": [
    {
     "name": "stdout",
     "output_type": "stream",
     "text": [
      "MNIST数据集上的CNN初始化成功\n",
      "[Step 100] 过去一百张图片: 平均损失值 2.307 | 准确率: 5%\n",
      "[Step 200] 过去一百张图片: 平均损失值 2.304 | 准确率: 9%\n",
      "[Step 300] 过去一百张图片: 平均损失值 2.305 | 准确率: 6%\n",
      "[Step 400] 过去一百张图片: 平均损失值 2.305 | 准确率: 13%\n",
      "[Step 500] 过去一百张图片: 平均损失值 2.304 | 准确率: 10%\n",
      "[Step 600] 过去一百张图片: 平均损失值 2.304 | 准确率: 7%\n",
      "[Step 700] 过去一百张图片: 平均损失值 2.305 | 准确率: 6%\n",
      "[Step 800] 过去一百张图片: 平均损失值 2.306 | 准确率: 12%\n",
      "[Step 900] 过去一百张图片: 平均损失值 2.306 | 准确率: 9%\n",
      "[Step 1000] 过去一百张图片: 平均损失值 2.306 | 准确率: 8%\n",
      "[Step 1100] 过去一百张图片: 平均损失值 2.305 | 准确率: 7%\n",
      "[Step 1200] 过去一百张图片: 平均损失值 2.303 | 准确率: 10%\n",
      "[Step 1300] 过去一百张图片: 平均损失值 2.304 | 准确率: 10%\n",
      "[Step 1400] 过去一百张图片: 平均损失值 2.306 | 准确率: 7%\n",
      "[Step 1500] 过去一百张图片: 平均损失值 2.304 | 准确率: 5%\n",
      "[Step 1600] 过去一百张图片: 平均损失值 2.305 | 准确率: 6%\n",
      "[Step 1700] 过去一百张图片: 平均损失值 2.303 | 准确率: 11%\n",
      "[Step 1800] 过去一百张图片: 平均损失值 2.306 | 准确率: 8%\n",
      "[Step 1900] 过去一百张图片: 平均损失值 2.305 | 准确率: 10%\n",
      "[Step 2000] 过去一百张图片: 平均损失值 2.304 | 准确率: 7%\n"
     ]
    }
   ],
   "source": [
    "test_images = mnist.test_images()[:2000]\n",
    "test_labels = mnist.test_labels()[:2000]\n",
    " \n",
    "conv = Conv3x3(8)                                    \n",
    "pool = MaxPool2()                                    \n",
    "softmax = Softmax(13 * 13 * 8, 10) \n",
    " \n",
    "def forward(image, label):\n",
    "   \n",
    "    out = conv.forward((image / 255) - 0.5)\n",
    "    out = pool.forward(out)\n",
    "    out = softmax.forward(out)\n",
    "    loss = -np.log(out[label])\n",
    "    acc = 1 if np.argmax(out) == label else 0\n",
    " \n",
    "    return out, loss, acc\n",
    " \n",
    "print('MNIST数据集上的CNN初始化成功')\n",
    " \n",
    "loss = 0\n",
    "num_correct = 0\n",
    "\n",
    "for i, (im, label) in enumerate(zip(test_images, test_labels)):\n",
    "\n",
    "    _, l, acc = forward(im, label)\n",
    "    loss += l\n",
    "    num_correct += acc\n",
    " \n",
    "    if i % 100 == 99:\n",
    "        print(\n",
    "            '[Step %d] 过去一百张图片: 平均损失值 %.3f | 准确率: %d%%' %\n",
    "            (i + 1, loss / 100, num_correct)\n",
    "        )\n",
    "        loss = 0\n",
    "        num_correct = 0"
   ]
  },
  {
   "cell_type": "code",
   "execution_count": null,
   "metadata": {},
   "outputs": [],
   "source": []
  },
  {
   "cell_type": "code",
   "execution_count": null,
   "metadata": {},
   "outputs": [],
   "source": []
  }
 ],
 "metadata": {
  "kernelspec": {
   "display_name": "Python 3",
   "language": "python",
   "name": "python3"
  },
  "language_info": {
   "codemirror_mode": {
    "name": "ipython",
    "version": 3
   },
   "file_extension": ".py",
   "mimetype": "text/x-python",
   "name": "python",
   "nbconvert_exporter": "python",
   "pygments_lexer": "ipython3",
   "version": "3.8.5"
  }
 },
 "nbformat": 4,
 "nbformat_minor": 4
}
